{
 "cells": [
  {
   "cell_type": "markdown",
   "metadata": {
    "toc": true
   },
   "source": [
    "<h1>Table of Contents<span class=\"tocSkip\"></span></h1>\n",
    "<div class=\"toc\"><ul class=\"toc-item\"><li><span><a href=\"#Problem-Statement\" data-toc-modified-id=\"Problem-Statement-1\"><span class=\"toc-item-num\">1&nbsp;&nbsp;</span>Problem Statement</a></span></li><li><span><a href=\"#Data-Overview\" data-toc-modified-id=\"Data-Overview-2\"><span class=\"toc-item-num\">2&nbsp;&nbsp;</span>Data Overview</a></span></li><li><span><a href=\"#Data-Exploration\" data-toc-modified-id=\"Data-Exploration-3\"><span class=\"toc-item-num\">3&nbsp;&nbsp;</span>Data Exploration</a></span></li><li><span><a href=\"#Final-Recommendation\" data-toc-modified-id=\"Final-Recommendation-4\"><span class=\"toc-item-num\">4&nbsp;&nbsp;</span>Final Recommendation</a></span></li><li><span><a href=\"#Conclusion\" data-toc-modified-id=\"Conclusion-5\"><span class=\"toc-item-num\">5&nbsp;&nbsp;</span>Conclusion</a></span></li></ul></div>"
   ]
  },
  {
   "cell_type": "markdown",
   "metadata": {},
   "source": [
    "### Problem Statement"
   ]
  },
  {
   "cell_type": "markdown",
   "metadata": {},
   "source": [
    "&nbsp;&nbsp; Due to its central geographic location and generally welcoming climate, Dubai is known for its international atmosphere. It is home to close to 2.5 Million expatriates who make up 90% of the 12 total population and it hosts close to 15 Million visitors per year. In addition to its multi-cultural population and capital flows, Dubai is becoming well known as a destination of choice for great food. It is a place where people can rest and try the best of each culture, either while they work here temporarily, or of they are just passing through.  \n",
    "\n",
    "&nbsp;&nbsp; The mission of this project is to use Foursquare location data and regional clustering of venue information to determine what might be the ‘best’ neighborhood in Dubai to open a restaurant. This is supported by the fact that a review of Foursquare venues reveals zero Mexican restaurants listed on the site.  \n",
    "\n",
    "&nbsp;&nbsp; My proposal, then, is an analysis of the neighborhoods in Dubai for the consideration of opening a new Mexican restaurant. The objective is to have a location that is within one of the more reasonable rent zones, but also within a close enough range (5km) to a ‘high’ rent zone. The assumption that proximity to high rent neighborhoods would result in takeout opportunities or provide residents an option to travel to our restaurant."
   ]
  },
  {
   "cell_type": "markdown",
   "metadata": {},
   "source": [
    "### Data Overview"
   ]
  },
  {
   "cell_type": "markdown",
   "metadata": {},
   "source": [
    "&nbsp;&nbsp; The data that we will use for this analysis is a combination of a CSV file that has been prepared for the purposes of the analysis from multiple sources (Dubai_neighborhoods.csv) and the location/venue information in foursquare.  \n",
    "\n",
    "&nbsp;&nbsp; We will first determine the most likely neighborhoods for a restaurant based on average rental prices and relative distance to a high rent center. In the case of Dubai, the three highest rent averages can be found in Palm Jumeirah, Jumeirah, and Zabeel. We will then consider the total number of venues and additional criteria such as proximity to a shopping center or offices for mid- day traffic to make a final determination.  \n",
    "\n",
    "&nbsp;&nbsp; The first step is to etablish the neighborhoods in Dubai and a summary of their average rental prices. The average rental index is published annually and can be referenced by a number of 3 different websites. Then, we take z-score to normalize the data and sort from lowest to highest average rent. Using google, I looked up the latitude and longitude of each neighborhood and entered it. This information is used to calculate the distance of each neighborhood from the highest rent regions and will also be entered to the Foursquare database for venue query later.\n",
    "\n",
    "&nbsp;&nbsp; Using clustering techniques developed in prior exercises in the capstone project, we will examine the most common venues by neighborhood listed in Foursquare. When we cluster the data together and rank by ‘most common’, it appears that Mexican venues not registered in any of the neighborhoods, so it is safe to assume there would be minimum competition.\n",
    "\n",
    "&nbsp;&nbsp; The remaining steps in the capstone project will be to evaluate which neighborhood is most suited using the criteria shown above: the rent index of the neighborhood is close to the mean average rent in Dubai, the neighborhood’s is located close to a ‘high rent’ neighborhood, the general restaurant frequency in the neighborhood is reasonable, and proximity to ‘other’ venues such as business centers or malls is maximized."
   ]
  },
  {
   "cell_type": "markdown",
   "metadata": {},
   "source": [
    "### Data Exploration"
   ]
  },
  {
   "cell_type": "markdown",
   "metadata": {},
   "source": [
    "&nbsp;&nbsp; As shown in the notebook, a quick sort of average rent by neighborhood and geographic proximity to the high rent regions narrows our search to a few neighborhoods. Although other neighborhoods could be selected due to low rent, they may be too far away from an area that would have more propensity for residents to dine out. The regions shown in green are also high traffic areas for tourists due to their proximity to shopping centers and high density of hotel accommodation.\n",
    "\n",
    "&nbsp;&nbsp; Therefore, further analysis will focus on (6) neighborhoods: Al Sufouh, DIFC, Business Bay, Jumeirah Lake Towers, Barsha Heights, and Dubai Marina.\n",
    "\n",
    "&nbsp;&nbsp; Each is within 5 Km of a high rent district but is in the middle of the range of the Dubai rent index. Travel to the restaurant would give families an opportunity to ‘get out’ without going too far, and delivery is also an option.\n",
    "\n",
    "&nbsp;&nbsp; So then the question becomes, which of these neighborhoods is preferred? Aside from proximity to a high rent neighborhood, we also want to take into consideration the amount of commercial activity in the selected neighborhood, tourist traffic and relative competition from other restaurants. We have already established that there would not be many ‘Mexican’ restaurants available, but we also do not want to enter a region that is over-crowded with options.\n",
    "\n",
    "&nbsp;&nbsp; To begin this analysis, I first made a master data frame of all venues in consideration, and then flagged any that had the word ‘Restaurant’ or ‘Hotel’ as ‘Venue Type’, dropping remaining.\n",
    "\n",
    "&nbsp;&nbsp; The outcome is to consider ‘Barsha Heights’ or ‘DIFC’ as a final consideration for launch of a new Mexican restaurant. Both list ‘Hotel’ as the most common venue. Dubai Marina is a close third given the volume of venues and hotels, but the number of restaurants is already very high."
   ]
  },
  {
   "cell_type": "markdown",
   "metadata": {},
   "source": [
    "### Final Recommendation"
   ]
  },
  {
   "cell_type": "markdown",
   "metadata": {},
   "source": [
    "&nbsp;&nbsp; At first glance, Barsha Heights seems preferable due to the fact that it is one of the top three neighborhoods for volume of venues, and the ratio of restaurants to hotels is relatively less. However, after further consideration, Barsha Heights is only close to one high rent center, while DIFC has the added benefit of being close to three high rent centers.\n",
    "\n",
    "&nbsp;&nbsp; In terms of relative ‘popularity’, DIFC would be the preferred location. The acronym stands for ‘Dubai International Finance Center’. It well known as the financial capital of the Middle East, attracting investors from all across the region looking to impress clients. It is also home to Emirates Towers (seen in the picture below), which is known be the location of the office of HH Sheikh Mohammed bin Rashid Al Maktoum, ruler of Dubai and Vice President of the UAE.\n",
    "\n",
    "&nbsp;&nbsp; Finally, in terms of culinary reputation, DIFC known for some of Dubai’s most prestigious restaurants like ‘Zuma’ and ‘Hakkasan’ – international chains known for high value and sought-after cuisine. There is a popular gallery section for art collectors that is home to ‘Christies’ the high value auction house known for high end trading."
   ]
  },
  {
   "cell_type": "markdown",
   "metadata": {},
   "source": [
    "### Conclusion"
   ]
  },
  {
   "cell_type": "markdown",
   "metadata": {},
   "source": [
    "&nbsp;&nbsp; In the end, DIFC would be the best choice considering all the factors: medium rental index, relative high volume of things to do for tourists and locals, it is a business center, it is close in proximity to other high rent neighborhoods, and the ratio of hotels to restaurants is not too high. Other neighborhoods that were considered were Barsha Heights and the Dubai Marina. Although Barsha Heights seems preferable given the low ratio of hotel venues to restaurants, it is not a particularly well know neighborhood and people would likely not travel there specifically to eat. It is also only close to one of the ‘high rent’ neighborhoods. Finally, Dubai Marina was not a preference as it is already saturated with restaurants."
   ]
  }
 ],
 "metadata": {
  "kernelspec": {
   "display_name": "Python 3",
   "language": "python",
   "name": "python3"
  },
  "language_info": {
   "codemirror_mode": {
    "name": "ipython",
    "version": 3
   },
   "file_extension": ".py",
   "mimetype": "text/x-python",
   "name": "python",
   "nbconvert_exporter": "python",
   "pygments_lexer": "ipython3",
   "version": "3.7.2"
  },
  "toc": {
   "base_numbering": 1,
   "nav_menu": {},
   "number_sections": true,
   "sideBar": true,
   "skip_h1_title": false,
   "title_cell": "Table of Contents",
   "title_sidebar": "Contents",
   "toc_cell": true,
   "toc_position": {},
   "toc_section_display": true,
   "toc_window_display": false
  }
 },
 "nbformat": 4,
 "nbformat_minor": 2
}
